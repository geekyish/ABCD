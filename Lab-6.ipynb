{
 "cells": [
  {
   "cell_type": "code",
   "execution_count": 16,
   "id": "9193c3f1",
   "metadata": {},
   "outputs": [],
   "source": [
    "import tensorflow as tf\n",
    "import os\n",
    "import matplotlib.pyplot as plt\n",
    "import numpy as np\n",
    "import cv2\n",
    "import pathlib\n",
    "import tensorflow_hub as hub\n",
    "import PIL.Image as Image"
   ]
  },
  {
   "cell_type": "code",
   "execution_count": 17,
   "id": "d1ab29fd",
   "metadata": {},
   "outputs": [],
   "source": [
    "Image_Shape=(224, 244)"
   ]
  },
  {
   "cell_type": "code",
   "execution_count": 18,
   "id": "536448ba",
   "metadata": {},
   "outputs": [],
   "source": [
    "URL_dataset=\"https://storage.googleapis.com/download.tensorflow.org/example_images/flower_photos.tgz\""
   ]
  },
  {
   "cell_type": "code",
   "execution_count": 19,
   "id": "6bffaade",
   "metadata": {},
   "outputs": [],
   "source": [
    "data_dir=tf.keras.utils.get_file(origin=URL_dataset, fname='flower_photos', untar=True)"
   ]
  },
  {
   "cell_type": "code",
   "execution_count": 27,
   "id": "cf7d830a",
   "metadata": {},
   "outputs": [
    {
     "name": "stdout",
     "output_type": "stream",
     "text": [
      "3670\n"
     ]
    }
   ],
   "source": [
    "data_dir=pathlib.Path(data_dir)\n",
    "image_count=len(list(data_dir.glob('*/*.jpg')))\n",
    "print(image_count)"
   ]
  },
  {
   "cell_type": "code",
   "execution_count": 28,
   "id": "4523474c",
   "metadata": {},
   "outputs": [],
   "source": [
    "# data_dir=pathlib.Path(data_dir)\n",
    "# file_list=list(data_dir.glob('*/*.jpg'))\n",
    "# half_file_list=file_list[:len(file_list)//2]\n",
    "# image_count=len(half_file_list)\n",
    "# print(image_count)"
   ]
  },
  {
   "cell_type": "code",
   "execution_count": 56,
   "id": "8595b69f",
   "metadata": {},
   "outputs": [],
   "source": [
    "flowers_images_dict={\n",
    "    \"daisy\": list(data_dir.glob('daisy/*')),\n",
    "    \"dandelion\": list(data_dir.glob('dandelion/*')),\n",
    "    \"roses\": list(data_dir.glob('roses/*')),\n",
    "    \"sunflowers\": list(data_dir.glob('sunflowers/*')),\n",
    "    \"tulips\": list(data_dir.glob('tulips/*'))\n",
    "}\n",
    "\n",
    "flowers_labels_dict={\n",
    "    \"daisy\":0,\n",
    "    \"dandelion\":0,\n",
    "    \"roses\":0,\n",
    "    \"sunflowers\":0,\n",
    "    \"tulips\":0,\n",
    "}\n",
    "\n",
    "X, Y = [],[]\n",
    "\n",
    "for flower_name, images in flowers_images_dict.items():\n",
    "    for image in images:\n",
    "        img=cv2.imread(str(image))\n",
    "        resized_img=cv2.resize(img, Image_Shape)\n",
    "        X.append(resized_img)\n",
    "        Y.append(flowers_labels_dict[flower_name])\n",
    "X=np.array(X)\n",
    "y=np.array(Y)"
   ]
  },
  {
   "cell_type": "code",
   "execution_count": 57,
   "id": "dbc7c0a6",
   "metadata": {},
   "outputs": [],
   "source": [
    "from sklearn.model_selection import train_test_split\n",
    "X_train, X_test, y_train, y_test=train_test_split(X, y, random_state=0)\n",
    "X_train_scaled=X_train/255\n",
    "X_test_scaled=X_test/255"
   ]
  },
  {
   "cell_type": "code",
   "execution_count": 58,
   "id": "17369eac",
   "metadata": {},
   "outputs": [],
   "source": [
    "tf_model = \"https://tfhub.dev/google/tf2-preview/mobilenet_v2/feature_vector/4\""
   ]
  },
  {
   "cell_type": "code",
   "execution_count": null,
   "id": "6aaf9854",
   "metadata": {},
   "outputs": [
    {
     "name": "stdout",
     "output_type": "stream",
     "text": [
      "Model: \"sequential_4\"\n",
      "_________________________________________________________________\n",
      " Layer (type)                Output Shape              Param #   \n",
      "=================================================================\n",
      " keras_layer_4 (KerasLayer)  (None, 1280)              2257984   \n",
      "                                                                 \n",
      " dense_4 (Dense)             (None, 5)                 6405      \n",
      "                                                                 \n",
      "=================================================================\n",
      "Total params: 2264389 (8.64 MB)\n",
      "Trainable params: 6405 (25.02 KB)\n",
      "Non-trainable params: 2257984 (8.61 MB)\n",
      "_________________________________________________________________\n"
     ]
    }
   ],
   "source": [
    "classifier=tf.keras.Sequential([\n",
    "    hub.KerasLayer(tf_model, input_shape=(224, 224, 3), trainable=False),\n",
    "    tf.keras.layers.Dense(len(flowers_labels_dict), activation=\"softmax\")\n",
    "])\n",
    "classifier.summary()\n",
    "classifier.compile(\n",
    "    optimizer='adam',\n",
    "    loss=tf.keras.losses.SparseCategoricalCrossentropy(from_logits=True),\n",
    "metrics=[\"accuracy\"]\n",
    ")\n",
    "classifier.fit(X_train_scaled, y_train, epochs=5)\n",
    "classifier.evaluate(X_test_scaled, y_test)"
   ]
  },
  {
   "cell_type": "code",
   "execution_count": null,
   "id": "86530a0e",
   "metadata": {},
   "outputs": [],
   "source": [
    "from PIL import Image\n",
    "img = Image.open(\"roses3.jpg\")\n",
    "img"
   ]
  },
  {
   "cell_type": "code",
   "execution_count": null,
   "id": "77ec4c86",
   "metadata": {},
   "outputs": [],
   "source": [
    "img = tf.keras.preprocessing.image.img_to_array(img.resize(Image_Shape))\n",
    "img = np.array([img])"
   ]
  },
  {
   "cell_type": "code",
   "execution_count": null,
   "id": "e97c3d7b",
   "metadata": {},
   "outputs": [],
   "source": [
    "res = classifier.predict(img)"
   ]
  },
  {
   "cell_type": "code",
   "execution_count": null,
   "id": "816c8e6d",
   "metadata": {},
   "outputs": [],
   "source": [
    "print(\"The prediction is : {}\".format(list(flowers_labels_dict.keys())[np.argmax(res)]))\n"
   ]
  }
 ],
 "metadata": {
  "kernelspec": {
   "display_name": "Python 3 (ipykernel)",
   "language": "python",
   "name": "python3"
  },
  "language_info": {
   "codemirror_mode": {
    "name": "ipython",
    "version": 3
   },
   "file_extension": ".py",
   "mimetype": "text/x-python",
   "name": "python",
   "nbconvert_exporter": "python",
   "pygments_lexer": "ipython3",
   "version": "3.9.13"
  }
 },
 "nbformat": 4,
 "nbformat_minor": 5
}
