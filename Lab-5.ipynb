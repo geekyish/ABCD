{
 "cells": [
  {
   "cell_type": "code",
   "execution_count": 21,
   "id": "e2534edb",
   "metadata": {},
   "outputs": [],
   "source": [
    "import matplotlib.pyplot as plt\n",
    "import seaborn as sns\n",
    "import matplotlib as mpl\n",
    "import matplotlib.pylab as pylan\n",
    "import numpy as np"
   ]
  },
  {
   "cell_type": "code",
   "execution_count": 22,
   "id": "8a571ab1",
   "metadata": {},
   "outputs": [],
   "source": [
    "import re"
   ]
  },
  {
   "cell_type": "code",
   "execution_count": 23,
   "id": "ea49c000",
   "metadata": {},
   "outputs": [],
   "source": [
    "sentences=\"\"\"Computer programming is the process of telling a computer to do certain things by giving it instructions. \n",
    "These instructions are called programs. \n",
    "A person who writes instructions is a computer programmer. \n",
    "Writing a whole program in machine code would take a long time, so instructions are written in special programming languages that are easier for people to understand. \n",
    "The instructions can also be written in an assembly language, which is almost the same as machine code but a little easier to understand.\"\"\""
   ]
  },
  {
   "cell_type": "code",
   "execution_count": 24,
   "id": "dcf858a8",
   "metadata": {},
   "outputs": [],
   "source": [
    "sentences=re.sub('[^A-Za-z0-9]+', ' ', sentences)"
   ]
  },
  {
   "cell_type": "code",
   "execution_count": 25,
   "id": "3f533c11",
   "metadata": {},
   "outputs": [],
   "source": [
    "sentences=re.sub(r'(?:^| )\\w(?:$| )',' ', sentences).strip()"
   ]
  },
  {
   "cell_type": "code",
   "execution_count": 26,
   "id": "01d50747",
   "metadata": {},
   "outputs": [],
   "source": [
    "sentences=sentences.lower()"
   ]
  },
  {
   "cell_type": "code",
   "execution_count": 27,
   "id": "70eb117d",
   "metadata": {},
   "outputs": [],
   "source": [
    "words=sentences.split()\n",
    "vocab=set(words)"
   ]
  },
  {
   "cell_type": "code",
   "execution_count": 28,
   "id": "377129e8",
   "metadata": {},
   "outputs": [],
   "source": [
    "vocab_size=len(vocab)\n",
    "embed_dim=10\n",
    "context_size=2"
   ]
  },
  {
   "cell_type": "code",
   "execution_count": 29,
   "id": "11dd84fe",
   "metadata": {},
   "outputs": [],
   "source": [
    "word_to_ix={word: i for i, word in enumerate(vocab)}\n",
    "ix_to_word={i:word for i, word in enumerate(vocab)}"
   ]
  },
  {
   "cell_type": "code",
   "execution_count": 30,
   "id": "b106a3bf",
   "metadata": {},
   "outputs": [
    {
     "name": "stdout",
     "output_type": "stream",
     "text": [
      "[(['computer', 'programming', 'the', 'process'], 'is'), (['programming', 'is', 'process', 'of'], 'the'), (['is', 'the', 'of', 'telling'], 'process'), (['the', 'process', 'telling', 'computer'], 'of'), (['process', 'of', 'computer', 'to'], 'telling')]\n"
     ]
    }
   ],
   "source": [
    "data=[]\n",
    "for i in range(2, len(words)-2):\n",
    "    context=[words[i-2], words[i-1], words[i+1], words[i+2]]\n",
    "    target=words[i]\n",
    "    data.append((context, target))\n",
    "print(data[:5])"
   ]
  },
  {
   "cell_type": "code",
   "execution_count": 31,
   "id": "8ce64bd2",
   "metadata": {},
   "outputs": [],
   "source": [
    "embeddings=np.random.random_sample((vocab_size, embed_dim))"
   ]
  },
  {
   "cell_type": "code",
   "execution_count": 32,
   "id": "947778b3",
   "metadata": {},
   "outputs": [],
   "source": [
    "def linear(m, theta):\n",
    "    w=theta\n",
    "    return m.dot(w)"
   ]
  },
  {
   "cell_type": "code",
   "execution_count": 33,
   "id": "a21dc7f7",
   "metadata": {},
   "outputs": [],
   "source": [
    "def log_softmax(x):\n",
    "    e_x=np.exp(x-np.max(x))\n",
    "    return np.log(e_x/e_x.sum())"
   ]
  },
  {
   "cell_type": "code",
   "execution_count": 34,
   "id": "c994de33",
   "metadata": {},
   "outputs": [],
   "source": [
    "def NLLLoss(logs, targets):\n",
    "    out=logs[range(len(targets)), targets]\n",
    "    return -out.sum()/len(out)"
   ]
  },
  {
   "cell_type": "code",
   "execution_count": 46,
   "id": "3df54dc2",
   "metadata": {},
   "outputs": [],
   "source": [
    "def log_softmax_crossentropy_with_logits(logits, target):\n",
    "    out=np.zeros_like(logits)\n",
    "    out[np.arange(len(logits)), target]=1\n",
    "    softmax=np.exp(logits)/np.exp(logits).sum(axis=-1, keepdims=True)\n",
    "    return (-out+softmax)/logits.shape[0]"
   ]
  },
  {
   "cell_type": "code",
   "execution_count": 47,
   "id": "875a05e8",
   "metadata": {},
   "outputs": [],
   "source": [
    "def forward(context_idxs, theta):\n",
    "    m=embeddings[context_idxs].reshape(1, -1)\n",
    "    n=linear(m, theta)\n",
    "    o=log_softmax(n)\n",
    "    \n",
    "    return m, n, o"
   ]
  },
  {
   "cell_type": "code",
   "execution_count": 48,
   "id": "25bf070b",
   "metadata": {},
   "outputs": [],
   "source": [
    "def backward(preds, theta, target_idxs):\n",
    "    m, n, o=preds\n",
    "    dlog=log_softmax_crossentropy_with_logits(n, target_idxs)\n",
    "    dw=m.T.dot(dlog)\n",
    "    \n",
    "    return dw"
   ]
  },
  {
   "cell_type": "code",
   "execution_count": 49,
   "id": "3d21aadc",
   "metadata": {},
   "outputs": [],
   "source": [
    "def optimize(theta, grad, lr=0.03):\n",
    "    theta-=grad*lr\n",
    "    return theta"
   ]
  },
  {
   "cell_type": "code",
   "execution_count": 50,
   "id": "0085a78b",
   "metadata": {},
   "outputs": [],
   "source": [
    "theta=np.random.uniform(-1, 1, (2*context_size*embed_dim, vocab_size))"
   ]
  },
  {
   "cell_type": "code",
   "execution_count": 51,
   "id": "a79d22ca",
   "metadata": {},
   "outputs": [],
   "source": [
    "epoch_losses={}\n",
    "for epoch in range(80):\n",
    "    losses=[]\n",
    "    for context, target in data:\n",
    "        context_idxs=np.array([word_to_ix[w] for w in context])\n",
    "        preds=forward(context_idxs, theta)\n",
    "        \n",
    "        target_idxs=np.array([word_to_ix[target]])\n",
    "        loss=NLLLoss(preds[-1], target_idxs)\n",
    "        \n",
    "        losses.append(loss)\n",
    "        \n",
    "        grad=backward(preds, theta, target_idxs)\n",
    "        theta=optimize(theta, grad, lr=0.03)\n",
    "        \n",
    "    epoch_losses[epoch]=losses"
   ]
  },
  {
   "cell_type": "code",
   "execution_count": 52,
   "id": "68f4ccc8",
   "metadata": {},
   "outputs": [
    {
     "data": {
      "text/plain": [
       "Text(0, 0.5, 'Losses')"
      ]
     },
     "execution_count": 52,
     "metadata": {},
     "output_type": "execute_result"
    },
    {
     "data": {
      "image/png": "[encoded data removed]",
      "text/plain": [
       "<Figure size 640x480 with 1 Axes>"
      ]
     },
     "metadata": {},
     "output_type": "display_data"
    }
   ],
   "source": [
    "ix=np.arange(0, 80)\n",
    "\n",
    "fig=plt.figure()\n",
    "fig.suptitle('Epoch/Losses', fontsize=20)\n",
    "plt.plot(ix, [epoch_losses[i][0] for i in ix])\n",
    "plt.xlabel('Epochs', fontsize=12)\n",
    "plt.ylabel('Losses', fontsize=12)"
   ]
  },
  {
   "cell_type": "code",
   "execution_count": 53,
   "id": "97fc15a2",
   "metadata": {},
   "outputs": [],
   "source": [
    "def predict(words):\n",
    "    context_idxs=np.array([word_to_ix[w] for w in words])\n",
    "    preds=forward(context_idxs, theta)\n",
    "    word=ix_to_word[np.argmax(preds[-1])]\n",
    "    \n",
    "    return word"
   ]
  },
  {
   "cell_type": "code",
   "execution_count": 54,
   "id": "b7ae1691",
   "metadata": {},
   "outputs": [
    {
     "data": {
      "text/plain": [
       "'are'"
      ]
     },
     "execution_count": 54,
     "metadata": {},
     "output_type": "execute_result"
    }
   ],
   "source": [
    "predict(['instructions', 'these', 'programs', 'called'])"
   ]
  },
  {
   "cell_type": "code",
   "execution_count": 55,
   "id": "3cfaa23b",
   "metadata": {},
   "outputs": [],
   "source": [
    "def accuracy():\n",
    "    wrong=0\n",
    "    \n",
    "    for context, target in data:\n",
    "        if(predict(context)!=target):\n",
    "            wrong+=1\n",
    "            \n",
    "    return (1-(wrong/len(data)))"
   ]
  },
  {
   "cell_type": "code",
   "execution_count": 56,
   "id": "83794ad8",
   "metadata": {},
   "outputs": [
    {
     "data": {
      "text/plain": [
       "1.0"
      ]
     },
     "execution_count": 56,
     "metadata": {},
     "output_type": "execute_result"
    }
   ],
   "source": [
    "accuracy()"
   ]
  },
  {
   "cell_type": "code",
   "execution_count": null,
   "id": "f52a50d9",
   "metadata": {},
   "outputs": [],
   "source": []
  }
 ],
 "metadata": {
  "kernelspec": {
   "display_name": "Python 3 (ipykernel)",
   "language": "python",
   "name": "python3"
  },
  "language_info": {
   "codemirror_mode": {
    "name": "ipython",
    "version": 3
   },
   "file_extension": ".py",
   "mimetype": "text/x-python",
   "name": "python",
   "nbconvert_exporter": "python",
   "pygments_lexer": "ipython3",
   "version": "3.9.13"
  }
 },
 "nbformat": 4,
 "nbformat_minor": 5
}
